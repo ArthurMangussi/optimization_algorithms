{
 "cells": [
  {
   "cell_type": "code",
   "execution_count": 1,
   "id": "5f89fc2a",
   "metadata": {},
   "outputs": [],
   "source": [
    "from pulp import *\n",
    "from amplpy import AMPL, ampl_notebook\n",
    "\n",
    "## Funções auxiliares\n",
    "def print_solution(prob):\n",
    "    print(f\"Status: {LpStatus[prob.status]} --> {prob.objective.value()}\")\n",
    "    for v in prob.variables():\n",
    "        print(f\"{v.name}: {v.varValue}\")"
   ]
  },
  {
   "cell_type": "markdown",
   "id": "2f7a1df9",
   "metadata": {},
   "source": [
    "### Exercício 01\n",
    "\n"
   ]
  },
  {
   "cell_type": "markdown",
   "id": "91611949",
   "metadata": {},
   "source": [
    "Uma cidade precisa decidir onde instalar bases do SAMU atendendo todas as regiões da cidade em até 15 minutos. Existem cinco possíveis locais de instalação. O local 1 atende as regiões sul e central em até 15 minutos. O local 2 atende as regiões sul, central e sudeste. O local 3 atende as regiões oeste e central em até 15 minutos. O local 4 atende as regiões central, norte e oeste em até 15 minutos. O local 5 atende as regiões oeste,  norte e sudeste em até 15 minutos.  Deseja-se minimizar o número de bases instaladas. Modele como um problema de programação linear inteira e resolva usando Python e/ou AMPL."
   ]
  },
  {
   "cell_type": "code",
   "execution_count": 3,
   "id": "ada0012a",
   "metadata": {},
   "outputs": [
    {
     "name": "stdout",
     "output_type": "stream",
     "text": [
      "Status: Optimal --> 2.0\n",
      "Local1: 1.0\n",
      "Local2: 0.0\n",
      "Local3: 0.0\n",
      "Local4: 0.0\n",
      "Local5: 1.0\n"
     ]
    }
   ],
   "source": [
    "prob = LpProblem(\"Exercise_1\", LpMinimize)\n",
    "\n",
    "# Variável de decisão\n",
    "x1 = LpVariable(\"Local1\", cat=LpBinary)\n",
    "x2 = LpVariable(\"Local2\", cat=LpBinary)\n",
    "x3 = LpVariable(\"Local3\", cat=LpBinary)\n",
    "x4 = LpVariable(\"Local4\", cat=LpBinary)\n",
    "x5 = LpVariable(\"Local5\", cat=LpBinary)\n",
    "\n",
    "\n",
    "# Função-objetivo \n",
    "prob += x1 + x2 + x3 + x4 + x5, \"Instalação\"\n",
    "\n",
    "# Restrições\n",
    "prob += x1 + x2 >=1, \"Região Sul\"\n",
    "prob += x1 + x2 + x3 + x4 >=1, \"Região Central\"\n",
    "prob += x2 + x5 >=1, \"Região Sudeste\"\n",
    "prob += x3 + x4 + x5 >=1, \"Região Oeste\"\n",
    "prob += x4 + x5 >=1, \"Região Norte\"\n",
    "\n",
    "prob.solve()\n",
    "print_solution(prob)"
   ]
  },
  {
   "cell_type": "markdown",
   "id": "41d4bc1b",
   "metadata": {},
   "source": [
    "### Exercício 02"
   ]
  },
  {
   "cell_type": "markdown",
   "id": "b9b0c0c6",
   "metadata": {},
   "source": [
    "O Problema da Instalação de Antenas: Uma empresa de telecomunicações deseja instalar antenas em alguns locais para cobrir seis áreas distintas. Foram identificados cinco locais possíveis para a instalação das antenas. Após algumas simulações, foi determinada a intensidade do sinal proveniente de uma antena colocada em cada local para cada área. A tabela a seguir resume esses níveis de intensidade:\n",
    "\n",
    "| | Área 1 | Área 2 | Área 3 | Área 4 | Área 5 | Área 6 |\n",
    "|-|--------|--------|--------|--------|--------|--------|\n",
    "| Local A | 10 | 20 | 16 | 25 | 0 | 10 |\n",
    "| Local B | 0 | 12 | 18 | 23 | 11 | 6 |\n",
    "| Local C | 21 | 8 | 5 | 6 | 23 | 19 |\n",
    "| Local D | 16 | 15 | 15 | 8 | 14 | 18 |\n",
    "| Local E | 21 | 13 | 13 | 17 | 18 | 22 |\n",
    "\n",
    "\n",
    "Os receptores reconhecem apenas sinais cujo nível seja pelo menos 18. Além disso, não é possível ter mais de um sinal atingindo o nível 18 na mesma área, pois isso causaria interferência. Finalmente, uma antena pode ser colocada no local E somente se uma antena também for instalada no local D (essa antena funcionaria como uma ponte). A empresa deseja determinar onde as antenas devem ser colocadas para cobrir o número máximo de áreas. Resolva usando Python e/ou AMPL."
   ]
  },
  {
   "cell_type": "code",
   "execution_count": 55,
   "id": "857d4376",
   "metadata": {},
   "outputs": [
    {
     "name": "stdout",
     "output_type": "stream",
     "text": [
      "Licensed to AMPL Academic Community Edition License for <mangussi.arthur@unifesp.br>.\n",
      "HiGHS 1.10.0HiGHS 1.10.0: optimal solution; objective 5\n",
      "0 simplex iterations\n",
      "0 branching nodes\n",
      "\n",
      "Locais com antena instalada:\n",
      "  Local 1: antena instalada\n",
      "  Local 3: antena instalada\n",
      "  Local 4: antena instalada\n",
      "\n",
      "Áreas cobertas:\n",
      "  Área 1: coberta\n",
      "  Área 2: coberta\n",
      "  Área 4: coberta\n",
      "  Área 5: coberta\n",
      "  Área 6: coberta\n",
      "\n",
      "Número total de áreas cobertas: 5.0\n"
     ]
    }
   ],
   "source": [
    "# Inicializa o ambiente do AMPL com a licença gratuita e o módulo HiGHS\n",
    "ampl_notebook(modules=[\"highs\"], license_uuid=\"2e003210-ce0e-4ca9-bb4e-5d4a704b43a3\")\n",
    "\n",
    "# Inicializa o ambiente AMPL\n",
    "ampl = AMPL()\n",
    "\n",
    "# Define o modelo AMPL\n",
    "modelo = \"\"\"\n",
    "\n",
    "param N{1..5, 1..6};\n",
    "\n",
    "var x {i in 1..5} binary;\n",
    "var y {j in 1..6} binary;\n",
    "\n",
    "maximize MaxCobertura: sum {j in 1..6} y[j];\n",
    "\n",
    "subject to CoberturaMinima{j in 1..5}:\n",
    "    sum{i in 1..5: N[i,j] >= 18} x[i] >= y[j];\n",
    "\n",
    "subject to Dependencia_E_D:\n",
    "    x[5] <= x[4];  # Antena E só pode ser instalada se D também for\n",
    "\n",
    "subject to Interferencia{j in 1..5}:\n",
    "    sum{i in 1..5: N[i,j] >= 18} x[i] <= 1;\n",
    "\"\"\"\n",
    "\n",
    "# Carrega modelo e dados\n",
    "ampl.eval(modelo)\n",
    "ampl.read_data(\"./data/sinal.dat\")\n",
    "\n",
    "ampl.set_option('solver', 'highs')\n",
    "\n",
    "# Resolve o problema\n",
    "ampl.solve()\n",
    "\n",
    "# Exibe os resultados\n",
    "print(\"\\nLocais com antena instalada:\")\n",
    "x_vals = ampl.get_variable(\"x\").get_values()\n",
    "for local, valor in dict(x_vals).items():\n",
    "    if valor == 1:\n",
    "        print(f\"  Local {local}: antena instalada\")\n",
    "\n",
    "print(\"\\nÁreas cobertas:\")\n",
    "y_vals = ampl.get_variable(\"y\").get_values()\n",
    "for area, valor in dict(y_vals).items():\n",
    "    if valor == 1:\n",
    "        print(f\"  Área {area}: coberta\")\n",
    "\n",
    "# Objetivo\n",
    "print(\"\\nNúmero total de áreas cobertas:\", ampl.get_objective(\"MaxCobertura\").value())"
   ]
  },
  {
   "cell_type": "markdown",
   "id": "bd2741a0",
   "metadata": {},
   "source": [
    "### Exercício 03"
   ]
  },
  {
   "cell_type": "markdown",
   "id": "44f5837f",
   "metadata": {},
   "source": [
    "O Problema da Galeria de Arte: Considere uma galeria de arte com muitos corredores e curvas. A galeria está exibindo pinturas muito valiosas e você deseja mantê-las seguras. Você está planejando instalar câmeras de segurança em cada corredor para que as câmeras tenham todas as pinturas à vista. Se houver uma câmera de segurança em um corredor, ela poderá ver todas as pinturas do corredor. Se houver uma câmera no canto onde dois corredores se encontram (o turno), ela pode ver pinturas em ambos. Podemos modelar este sistema como um grafo onde os nós representam os lugares onde os corredores se encontram ou quando um corredor se torna um beco sem saída, e as arestas são os corredores. Considere o exemplo abaixo. Modele o problema como PPI e resolva usando Python e/ou AMPL."
   ]
  },
  {
   "cell_type": "code",
   "execution_count": null,
   "id": "a4fc290e",
   "metadata": {},
   "outputs": [
    {
     "name": "stdout",
     "output_type": "stream",
     "text": [
      "Status: Optimal --> 3.0\n",
      "x_A: 0.0\n",
      "x_B: 1.0\n",
      "x_C: 1.0\n",
      "x_D: 0.0\n",
      "x_E: 1.0\n",
      "x_F: 0.0\n",
      "C\n",
      "E\n",
      "B\n"
     ]
    }
   ],
   "source": [
    "edges = [('A', 'B'), ('A', 'C'), ('B', 'D'), \n",
    "         ('C', 'D'), ('D', 'E'), ('E', 'F')]\n",
    "\n",
    "vertices = set(v for edge in edges for v in edge)\n",
    "\n",
    "prob = LpProblem(\"Galeria_de_Arte\", LpMinimize)\n",
    "\n",
    "x = {v: LpVariable(f'x_{v}', cat='Binary') for v in vertices}\n",
    "\n",
    "prob += pulp.lpSum(x[v] for v in vertices)\n",
    "for (u, v) in edges:\n",
    "    prob += x[u] + x[v] >= 1\n",
    "\n",
    "prob.solve()\n",
    "print_solution(prob)"
   ]
  },
  {
   "cell_type": "markdown",
   "id": "a62bb72b",
   "metadata": {},
   "source": [
    "## Exercício 04"
   ]
  },
  {
   "cell_type": "markdown",
   "id": "d9205093",
   "metadata": {},
   "source": [
    "Uma empresa produz bobinas de papéis de cinco tamanhos diferentes a partir do corte de uma bobina-mestre. A empresa trabalha com 10 padrões de corte, ou seja, dez formas diferentes de cortar a bobina-mestre para obter seus produtos, conforme as colunas da matriz abaixo (cada coluna é um padrão de corte):\n",
    "\n",
    "5 2 1 0 0 0 0 0 0 1 <br>\n",
    "0 0 1 2 0 0 3 1 0 0 <br>\n",
    "0 0 0 2 1 0 0 0 1 0 <br>\n",
    "0 1 0 0 1 0 0 1 0 1 <br>\n",
    "0 0 1 0 0 1 0 0 0 0 <br>\n",
    "\n",
    "\n",
    "Por exemplo, a primeira coluna corresponde ao corte da bobina mestre em 5 bobinas do tipo 1. A segunda coluna corresponde ao corte da bobina mestre em duas bobinas do tipo 1 e uma bobina do tipo 4. E, assim por diante. A demanda desta semana é a seguinte: 18 bobinas do tipo 1, 31 bobinas do tipo 2, 25 bobinas do tipo 3, 15 bobinas do tipo 4 e 14 bobinas do tipo 5."
   ]
  },
  {
   "cell_type": "code",
   "execution_count": 7,
   "id": "7d2011fa",
   "metadata": {},
   "outputs": [
    {
     "name": "stdout",
     "output_type": "stream",
     "text": [
      "Status: Optimal --> 37.0\n",
      "x0: 0.0\n",
      "x1: 0.0\n",
      "x2: 14.0\n",
      "x3: 7.0\n",
      "x4: 11.0\n",
      "x5: 0.0\n",
      "x6: 1.0\n",
      "x7: 0.0\n",
      "x8: 0.0\n",
      "x9: 4.0\n"
     ]
    }
   ],
   "source": [
    "padroes = [\n",
    "    [5,0,0,0,0],\n",
    "    [2,0,0,1,0],\n",
    "    [1,1,0,0,1],\n",
    "    [0,2,2,0,0],\n",
    "    [0,0,1,1,0],\n",
    "    [0,0,0,0,1],\n",
    "    [0,3,0,0,0],\n",
    "    [0,1,0,1,0],\n",
    "    [0,0,1,0,0],\n",
    "    [1,0,0,1,0]\n",
    "]\n",
    "\n",
    "demanda = [18, 31, 25, 15, 14]\n",
    "\n",
    "x = [LpVariable(f\"x{i}\", lowBound=0, cat='Integer') for i in range(10)]\n",
    "\n",
    "\n",
    "prob = LpProblem(\"Bobinas_sem_estoque\", LpMinimize)\n",
    "\n",
    "prob += lpSum(x)\n",
    "\n",
    "for i in range(5):\n",
    "    prob += lpSum(padroes[j][i] * x[j] for j in range(10)) == demanda[i]\n",
    "\n",
    "prob.solve()\n",
    "print_solution(prob)"
   ]
  },
  {
   "cell_type": "code",
   "execution_count": 11,
   "id": "9f5944ed",
   "metadata": {},
   "outputs": [
    {
     "name": "stdout",
     "output_type": "stream",
     "text": [
      "Status: Optimal\n",
      "Tempo total mínimo: 19.0 horas\n",
      "\n",
      "Padrões utilizados:\n",
      "Padrão 3: 18.0 bobinas (y3 = 1.0)\n",
      "Padrão 4: 7.0 bobinas (y4 = 1.0)\n",
      "Padrão 5: 15.0 bobinas (y5 = 1.0)\n"
     ]
    }
   ],
   "source": [
    "x = [LpVariable(f\"x{i}\", lowBound=0, cat='Integer') for i in range(10)]\n",
    "y = [LpVariable(f\"y{i}\", cat=LpBinary) for i in range(10)]\n",
    "M = 100000\n",
    "\n",
    "prob = LpProblem(\"TempoTroca\", LpMinimize)\n",
    "\n",
    "prob += 0.25 * lpSum(x) + 3 * lpSum(y)\n",
    "\n",
    "# Atendimento da Demanda\n",
    "for i in range(5):\n",
    "    prob += lpSum(padroes[j][i] * x[j] for j in range(10)) >= demanda[i]\n",
    "\n",
    "for j in range(10):\n",
    "    prob += x[j] <= M * y[j], f\"Ativacao_y{j+1}\"\n",
    "\n",
    "prob.solve()\n",
    "print(\"Status:\", LpStatus[prob.status])\n",
    "print(\"Tempo total mínimo:\", value(prob.objective), \"horas\")\n",
    "print(\"\\nPadrões utilizados:\")\n",
    "for j in range(10):\n",
    "    if x[j].value() > 0:\n",
    "        print(f\"Padrão {j+1}: {x[j].value()} bobinas (y{j+1} = {y[j].value()})\")"
   ]
  },
  {
   "cell_type": "markdown",
   "id": "a93aec26",
   "metadata": {},
   "source": [
    "## Exercício 05"
   ]
  },
  {
   "cell_type": "markdown",
   "id": "13440d42",
   "metadata": {},
   "source": [
    "Fase 1: Um banco deve decidir quantos auditores serão necessários contratar em um horizonte de 6 meses de operação, março a agosto. As necessidades de esforço de auditoria são contabilizadas em termos de mão-de-obra de auditores experientes da seguinte forma:\n",
    "\n",
    "| Mês    | Necessidade (Horas/mês) |\n",
    "| ------ | ----------------------- |\n",
    "| Março  | 7000                    |\n",
    "| Abril  | 8000                    |\n",
    "| Maio   | 10000                   |\n",
    "| Junho  | 11000                   |\n",
    "| Julho  | 11000                   |\n",
    "| Agosto | 11000                   |\n",
    "\n",
    "Cada auditor contratado como funcionário do banco, apesar de formado e aprovado em concurso, tem que ser treinado por um mês antes de poder atuar plenamente em sua função. Nesse treinamento, são utilizados auditores experientes do próprio banco que, deixando de concorrer na auditoria normal, dedicam 100 horas para cada auditor a ser treinado. Um auditor trabalha 150 horas por mês. Em 1º de fevereiro, o banco dispõe de 60 auditores experientes. O programa de contratação terá início em 1º de março.\n",
    "\n",
    "Sabe-se também que o mercado de trabalho para auditores está muito instável, de forma que 10% da força de trabalho desses profissionais experientes deixa o banco a cada mês em busca de melhores salários. Um auditor experiente recebe do banco cerca de R$2000,00 por mês, enquanto o auditor em treinamento só recebe uma ajuda de R$150,00. Quando o número de auditores excede as necessidades, a carga de trabalho é reduzida, mas não são feitas demissões devido ao elevado custo do processo e ao risco de justiça. Quando isso acontece, novos auditores não são contratados e a evasão normal equilibra a força de trabalho.\n",
    "\n",
    "Proponha uma solução objetivando minimizar os custos de operação do sistema de auditoria.\n",
    "\n",
    "Fase 2: Utilizando o processo de terceirização\n",
    "Paralelamente ao sistema de contratação formal para auditores existe a possibilidade de se obter mão-de-obra para auditorias via uma empresa de terceirização: a 3Part Consulting. Essa organização oferece auditores experientes (possivelmente egressos do sistema normal) e licenciados pela Câmara de Auditores Juramentados. Esse especialista custa R$ 2500,00 ao mês e pode ser retirado da folha a qualquer momento. Mesmo os que já trabalharam no sistema normal, a 3Part só exige a garantia mínima de um mês de trabalho para o profissional e que ele não trabalhe simultaneamente para o banco e para a 3Part. O banco pode ter sua licença auditada se descumprir esse requisito adicional. Reformular o problema levando em conta essa nova possibilidade."
   ]
  },
  {
   "cell_type": "code",
   "execution_count": 3,
   "id": "e823092e",
   "metadata": {},
   "outputs": [
    {
     "name": "stdout",
     "output_type": "stream",
     "text": [
      "Status: Optimal --> 805470.0\n",
      "e_0: 60.0\n",
      "e_1: 54.0\n",
      "e_2: 67.0\n",
      "e_3: 73.5\n",
      "e_4: 66.15\n",
      "e_5: 73.535\n",
      "x_0: 0.0\n",
      "x_1: 46.0\n",
      "x_2: 33.0\n",
      "x_3: 0.0\n",
      "x_4: 35.0\n",
      "x_5: 0.0\n"
     ]
    }
   ],
   "source": [
    "horas = [7000, 8000, 10000, 11000, 7000, 11000]\n",
    "meses = range(6)\n",
    "\n",
    "\n",
    "prob = LpProblem(\"Auditoria_Bancaria\", LpMinimize)\n",
    "\n",
    "x = [LpVariable(f\"x_{t}\", lowBound=0, cat=\"Integer\") \n",
    "for t in meses]\n",
    "e = [LpVariable(f\"e_{t}\", lowBound=0) for t in meses]\n",
    "\n",
    "prob += lpSum(2000 * e[t] + 150 * x[t] for t in meses)\n",
    "\n",
    "for t in meses:\n",
    "    prob += 150 * e[t] >= horas[t], f\"Demanda_{t+1}\"\n",
    "\n",
    "prob += e[0] == 60, \"Inicial\"\n",
    "\n",
    "for t in range(1, 6):\n",
    "    prob += e[t] == 0.9 * (e[t-1] - (100/150) * x[t-1]) + x[t-1], f\"Evolucao_{t+1}\"\n",
    "\n",
    "prob.solve()\n",
    "print_solution(prob)"
   ]
  },
  {
   "cell_type": "code",
   "execution_count": 13,
   "id": "43da94ce",
   "metadata": {},
   "outputs": [
    {
     "name": "stdout",
     "output_type": "stream",
     "text": [
      "Custo total: 799292.6\n",
      "Mar: Contratados=6.0, Experientes=54.0, Terceirizados=0.0\n",
      "Apr: Contratados=19.0, Experientes=54.0, Terceirizados=0.0\n",
      "May: Contratados=16.0, Experientes=65.7, Terceirizados=1.0\n",
      "Jun: Contratados=8.0, Experientes=73.53, Terceirizados=0.0\n",
      "Jul: Contratados=7.0, Experientes=73.377, Terceirizados=0.0\n",
      "Aug: Contratados=0.0, Experientes=72.3393, Terceirizados=1.0\n"
     ]
    }
   ],
   "source": [
    "from pulp import *\n",
    "\n",
    "months = [\"Mar\", \"Apr\", \"May\", \"Jun\", \"Jul\", \"Aug\"]\n",
    "demand = [7000, 8000, 10000, 11000, 11000, 11000]\n",
    "\n",
    "prob = LpProblem(\"Auditoria\", LpMinimize)\n",
    "\n",
    "# Variáveis\n",
    "x = {t: LpVariable(f\"x_{t}\", lowBound=0, cat='Integer') for t in months}\n",
    "s = {t: LpVariable(f\"s_{t}\", lowBound=0) for t in months}\n",
    "w = {t: LpVariable(f\"w_{t}\", lowBound=0) for t in months}\n",
    "u = {t: LpVariable(f\"u_{t}\", lowBound=0, cat='Integer') for t in months}\n",
    "z = {t: LpVariable(f\"z_{t}\", lowBound=0, cat='Integer') for t in months}\n",
    "\n",
    "# Condição inicial\n",
    "s_prev = 60\n",
    "\n",
    "# Função objetivo\n",
    "prob += lpSum(2000 * s[t] + 150 * u[t] + 2500 * z[t] for t in months)\n",
    "\n",
    "for i, t in enumerate(months):\n",
    "    prob += w[t] == s_prev + (u[months[i-1]] if i > 0 else 0)\n",
    "    prob += s[t] == 0.9 * w[t]\n",
    "    prob += 100 * x[t] <= 150 * s_prev\n",
    "    prob += 150 * s[t] + 150 * z[t] >= demand[i]\n",
    "    prob += u[t] == x[t]\n",
    "    s_prev = s[t]\n",
    "\n",
    "prob.solve()\n",
    "print(\"Custo total:\", value(prob.objective))\n",
    "for t in months:\n",
    "    print(f\"{t}: Contratados={x[t].value()}, Experientes={s[t].value()}, Terceirizados={z[t].value()}\")"
   ]
  }
 ],
 "metadata": {
  "kernelspec": {
   "display_name": "Python 3",
   "language": "python",
   "name": "python3"
  },
  "language_info": {
   "codemirror_mode": {
    "name": "ipython",
    "version": 3
   },
   "file_extension": ".py",
   "mimetype": "text/x-python",
   "name": "python",
   "nbconvert_exporter": "python",
   "pygments_lexer": "ipython3",
   "version": "3.11.9"
  }
 },
 "nbformat": 4,
 "nbformat_minor": 5
}
