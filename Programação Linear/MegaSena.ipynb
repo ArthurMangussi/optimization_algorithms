{
 "cells": [
  {
   "cell_type": "markdown",
   "id": "729bca86",
   "metadata": {},
   "source": [
    "### Modelo de Otimização Linear para Mega Sena \n",
    "\n",
    "Suponha que seu grupo foi contratado para fazer um modelo de otimização linear que encontre uma aposta de n números na mega-sena tal que:\n",
    "- O(a) apostador(a) entra inicialmente com um número da sorte escolhido arbitrariamente por ele/ela;\n",
    "- O modelo prioriza a escolha dos demais n-1 números menos sorteados considerando o histórico des sorteios até o dia 7 de abril de 2025 (dados anexos);\n",
    "- A diferença entre a quantidade de números pares e a quantidade de números ímpares seja no máximo 2, considerando também o número da sorte;\n",
    "- A diferença entre a quantidade de números na 1a metade superior e na 2a metade inferior do bilhete seja no máximo 2, considerando também o número da sorte;\n"
   ]
  },
  {
   "cell_type": "code",
   "execution_count": 1,
   "id": "57dd1b78",
   "metadata": {},
   "outputs": [],
   "source": [
    "## Bibliotecas\n",
    "import pandas as pd\n",
    "from amplpy import AMPL, ampl_notebook\n",
    "\n",
    "data = pd.read_excel(\"data/Mega-Sena.xlsx\")\n",
    "\n",
    "# Eliminando as colunas irrelevantes para o problema\n",
    "data_processado = data.drop(columns=['Concurso', 'Data do Sorteio', 'Ganhadores 6 acertos', 'Cidade / UF',\n",
    "       'Rateio 6 acertos', 'Ganhadores 5 acertos', 'Rateio 5 acertos',\n",
    "       'Ganhadores 4 acertos', 'Rateio 4 acertos', 'Acumulado 6 acertos',\n",
    "       'Arrecadação Total', 'Estimativa prêmio',\n",
    "       'Acumulado Sorteio Especial Mega da Virada', 'Observação'])\n",
    "\n",
    "# Calculando as frequências de cada número \n",
    "frequencias = data_processado.stack().value_counts()\n",
    "\n",
    "# Criando um arquivo .dat com as frequências\n",
    "with open(\"data/frequencias.dat\", \"w\") as f:\n",
    "    f.write(\"param f :=\\n\")\n",
    "    for valor, freq in frequencias.items():\n",
    "        f.write(f\"  {valor}   {freq}\\n\")\n",
    "    f.write(\";\\n\")"
   ]
  },
  {
   "cell_type": "markdown",
   "id": "83de96a4",
   "metadata": {},
   "source": [
    "### Modelagem matemática do problema proposto, utilizando AMPL"
   ]
  },
  {
   "cell_type": "code",
   "execution_count": 2,
   "id": "a4a75632",
   "metadata": {},
   "outputs": [],
   "source": [
    "def mega_sena_linear_model(n: int,\n",
    "                           numero_sorte:int,\n",
    "                           path_frequencias:str)-> list:\n",
    "    \"\"\"\n",
    "    Função para otimização linear de um jogo na Mega-Sena\n",
    "    baseado na frequências de resultados até 7 de abril de 2025.\n",
    "\n",
    "    (O presente código é apenas um exercício didático, não recomendando\n",
    "    inicitaiva nenhuma para apostas)\n",
    "\n",
    "    Args:\n",
    "        n (int): O tamanho da aposta\n",
    "        numero_sorte (int): O número que você quer que esteja presente na aposta\n",
    "        path_frequencias (str): O caminho para .dat que contém as frequências\n",
    "    \n",
    "    Return:\n",
    "        aposta (List): Os números da aposta\n",
    "    \"\"\"\n",
    "    if n > 60 or n < 0:\n",
    "        raise ValueError(\"O número escolhido precisa estar entre 1 e 60\")\n",
    "    \n",
    "    # Inicializa o ambiente do AMPL com a licença gratuita e o módulo HiGHS\n",
    "    ampl_notebook(modules=[\"highs\"], license_uuid=\"2e003210-ce0e-4ca9-bb4e-5d4a704b43a3\")\n",
    "\n",
    "    # Cria uma instância do AMPL\n",
    "    ampl = AMPL()\n",
    "\n",
    "    # Define o Modelo\n",
    "    modelo = \"\"\" \n",
    "\n",
    "    # Variável de decisão\n",
    "    var x {i in 1..60} binary; # Se o i-ésimo número está presente na aposta\n",
    "\n",
    "    # Parâmetros \n",
    "    param n;                 # Tamanho da aposta\n",
    "    param f {i in 1..60};    # Frequência do i-ésimo número \n",
    "    param s;                 # o número escolhido\n",
    "    param k {i in 0..29};    # Controlar a paridade dos números\n",
    "\n",
    "    # Função-objetivo\n",
    "    minimize fobj: sum {i in 1..60} x[i]*f[i];\n",
    "\n",
    "    # Restrições\n",
    "\n",
    "    subject to tamanho_aposta: sum{i in 1..60} x[i] = n; \n",
    "    subject to s_precisa_constar: x[s] = 1;\n",
    "    subject to paridade1: sum{i in 1..60: i mod 2 = 0} x[i] - sum{i in 1..60: i mod 2 != 0} x[i] <= 2;\n",
    "    subject to paridade2: sum{i in 1..60: i mod 2 = 0} x[i] - sum{i in 1..60: i mod 2 != 0} x[i] >= -2;\n",
    "    subject to diff1: sum{i in 1..30} x[i] - sum{i in 31..60} x[i] <= 2;\n",
    "    subject to diff2: sum{i in 1..30} x[i] - sum{i in 31..60} x[i] >= -2;\n",
    "\n",
    "    \"\"\"\n",
    "\n",
    "    # Carregar o modelo\n",
    "    ampl.eval(modelo)\n",
    "\n",
    "    # Carrega os dados do arquivo\n",
    "    ampl.read_data(path_frequencias)\n",
    "    ampl.param['n'] = n\n",
    "    ampl.param['s'] = numero_sorte\n",
    "\n",
    "    # Etapa 6: Define o solver gratuito HiGHS\n",
    "    ampl.set_option('solver', 'highs')\n",
    "\n",
    "    # Etapa 7: Resolve o modelo\n",
    "    ampl.solve()\n",
    "\n",
    "    # Recuperar a solução\n",
    "    df1 = ampl.get_variable('x').get_values().to_pandas()\n",
    "\n",
    "    aposta = []\n",
    "    for idx, row in df1.iterrows():\n",
    "        if row.iloc[0] == 1:\n",
    "            aposta.append(idx)\n",
    "            \n",
    "\n",
    "    print(\"\\nValor da função objetivo:\")\n",
    "    print(ampl.get_objective('fobj').value())\n",
    "\n",
    "    print('Aposta->', sorted(aposta))\n",
    "\n",
    "    return sorted(aposta)"
   ]
  },
  {
   "cell_type": "markdown",
   "id": "7712bcd4",
   "metadata": {},
   "source": [
    "### Testando a função criada"
   ]
  },
  {
   "cell_type": "code",
   "execution_count": 3,
   "id": "4c614f01",
   "metadata": {},
   "outputs": [
    {
     "name": "stdout",
     "output_type": "stream",
     "text": [
      "Licensed to AMPL Academic Community Edition License for <mangussi.arthur@unifesp.br>.\n",
      "HiGHS 1.10.0HiGHS 1.10.0: optimal solution; objective 1561\n",
      "2 simplex iterations\n",
      "1 branching nodes\n",
      "\n",
      "Valor da função objetivo:\n",
      "1561.0\n",
      "Aposta-> [10, 15, 21, 26, 48, 55]\n"
     ]
    }
   ],
   "source": [
    "# Para 6 números\n",
    "r = mega_sena_linear_model(n=6,\n",
    "                       numero_sorte=10,\n",
    "                       path_frequencias=\"data/frequencias.dat\")"
   ]
  },
  {
   "cell_type": "code",
   "execution_count": 4,
   "id": "af3d1864",
   "metadata": {},
   "outputs": [
    {
     "name": "stdout",
     "output_type": "stream",
     "text": [
      "Licensed to AMPL Academic Community Edition License for <mangussi.arthur@unifesp.br>.\n",
      "HiGHS 1.10.0HiGHS 1.10.0: optimal solution; objective 1772\n",
      "4 simplex iterations\n",
      "1 branching nodes\n",
      "\n",
      "Valor da função objetivo:\n",
      "1772.0\n",
      "Aposta-> [1, 15, 21, 26, 40, 48, 55]\n"
     ]
    }
   ],
   "source": [
    "# Para 7 números\n",
    "r = mega_sena_linear_model(n=7,\n",
    "                       numero_sorte=1,\n",
    "                       path_frequencias=\"data/frequencias.dat\")"
   ]
  },
  {
   "cell_type": "code",
   "execution_count": 5,
   "id": "88c6c2d3",
   "metadata": {},
   "outputs": [
    {
     "name": "stdout",
     "output_type": "stream",
     "text": [
      "Licensed to AMPL Academic Community Edition License for <mangussi.arthur@unifesp.br>.\n",
      "HiGHS 1.10.0HiGHS 1.10.0: optimal solution; objective 2018\n",
      "1 simplex iterations\n",
      "1 branching nodes\n",
      "\n",
      "Valor da função objetivo:\n",
      "2018.0\n",
      "Aposta-> [15, 21, 22, 26, 31, 48, 55, 60]\n"
     ]
    }
   ],
   "source": [
    "# Para 8 números\n",
    "r = mega_sena_linear_model(n=8,\n",
    "                       numero_sorte=60,\n",
    "                       path_frequencias=\"data/frequencias.dat\")"
   ]
  },
  {
   "cell_type": "code",
   "execution_count": 6,
   "id": "5092b9c0",
   "metadata": {},
   "outputs": [
    {
     "name": "stdout",
     "output_type": "stream",
     "text": [
      "Licensed to AMPL Academic Community Edition License for <mangussi.arthur@unifesp.br>.\n",
      "HiGHS 1.10.0HiGHS 1.10.0: optimal solution; objective 2276\n",
      "1 simplex iterations\n",
      "1 branching nodes\n",
      "\n",
      "Valor da função objetivo:\n",
      "2276.0\n",
      "Aposta-> [3, 15, 21, 22, 26, 31, 40, 48, 55]\n"
     ]
    }
   ],
   "source": [
    "# Para 9 números\n",
    "r = mega_sena_linear_model(n=9,\n",
    "                       numero_sorte=15,\n",
    "                       path_frequencias=\"data/frequencias.dat\")"
   ]
  },
  {
   "cell_type": "code",
   "execution_count": 7,
   "id": "b28eda3d",
   "metadata": {},
   "outputs": [
    {
     "name": "stdout",
     "output_type": "stream",
     "text": [
      "Licensed to AMPL Academic Community Edition License for <mangussi.arthur@unifesp.br>.\n",
      "HiGHS 1.10.0HiGHS 1.10.0: optimal solution; objective 2559\n",
      "1 simplex iterations\n",
      "1 branching nodes\n",
      "\n",
      "Valor da função objetivo:\n",
      "2559.0\n",
      "Aposta-> [2, 3, 15, 21, 22, 26, 31, 40, 48, 55]\n"
     ]
    }
   ],
   "source": [
    "# Para 10 números\n",
    "r = mega_sena_linear_model(n=10,\n",
    "                       numero_sorte=2,\n",
    "                       path_frequencias=\"data/frequencias.dat\")"
   ]
  }
 ],
 "metadata": {
  "kernelspec": {
   "display_name": "Python 3",
   "language": "python",
   "name": "python3"
  },
  "language_info": {
   "codemirror_mode": {
    "name": "ipython",
    "version": 3
   },
   "file_extension": ".py",
   "mimetype": "text/x-python",
   "name": "python",
   "nbconvert_exporter": "python",
   "pygments_lexer": "ipython3",
   "version": "3.11.9"
  }
 },
 "nbformat": 4,
 "nbformat_minor": 5
}
