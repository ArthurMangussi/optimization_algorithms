{
 "cells": [
  {
   "cell_type": "markdown",
   "id": "666f4d16",
   "metadata": {},
   "source": [
    "## Modelo Otimização Viável para Proteção Ambiental\n",
    "\n",
    "Você foi contratado como consultor por um consórcio intermunicipal para ajudar na conservação de uma serra ameaçada pela fragmentação florestal. Seu objetivo é propor um plano de alocação de áreas para proteção integral, uso sustentável ou reflorestamento, de modo a preservar a biodiversidade, manter os serviços ecossistêmicos e promover o desenvolvimento justo das comunidades locais. A região é dividida em 60 parcelas de terra (com diferentes altitudes, coberturas vegetais e níveis de degradação), mas os dados ambientais disponíveis são parciais, desatualizados e, em muitos casos, baseados em percepções de moradores e gestores locais. Além disso: <br>\n",
    "\n",
    "- A biodiversidade deve ser respeitada acima de tudo, mas não há consenso sobre quais espécies são mais prioritárias;\n",
    "- Áreas próximas a nascentes “não podem ser negligenciadas”, segundo líderes comunitários;\n",
    "- As comunidades exigem que “nenhuma proposta comprometa mais do que o justo das suas possibilidades de sustento”;\n",
    "- Um relatório técnico recomenda que pelo menos 30% da região seja destinada à proteção integral, mas os prefeitos dizem que isso é \"flexível, dependendo da sensatez do plano final\"."
   ]
  },
  {
   "cell_type": "markdown",
   "id": "52e6ca30",
   "metadata": {},
   "source": [
    "### Bibliotecas"
   ]
  },
  {
   "cell_type": "code",
   "execution_count": 2,
   "id": "1e67d7c0",
   "metadata": {},
   "outputs": [],
   "source": [
    "from pulp import *\n",
    "import pandas as pd\n",
    "import numpy as np"
   ]
  },
  {
   "cell_type": "markdown",
   "id": "a784f947",
   "metadata": {},
   "source": [
    "### Funções auxiliares"
   ]
  },
  {
   "cell_type": "code",
   "execution_count": 3,
   "id": "4b5d07ff",
   "metadata": {},
   "outputs": [],
   "source": [
    "# Função para gerar aleatoriamente o problema \n",
    "def random_region(n: int)->pd.DataFrame:\n",
    "    \"\"\"\n",
    "    Método para gerar aleatoriamente um conjunto de dados\n",
    "    que represente uma região ambiental fictícia.\n",
    "\n",
    "    Args:\n",
    "        n (int): Número inteiro que representa as parcelas de terra\n",
    "        da região\n",
    "    \n",
    "    Return:\n",
    "        dados (pd.DataFrame): A região ambiental aleatória com \n",
    "        biodiversidade, degradação, proximidade com nascente e\n",
    "        importância para o sustento local\n",
    "    \"\"\"\n",
    "    biodiversidade = np.random.randint(0, 10, n)\n",
    "    degradacao = np.random.random(n)\n",
    "    nascente = np.random.choice([0, 1], size=n)\n",
    "    sustento_local = np.random.randint(0, 10, n)\n",
    "\n",
    "    data = {\n",
    "        \"Biodiversidade\": biodiversidade,\n",
    "        \"Degradacao\": degradacao,\n",
    "        \"Nascente\": nascente,\n",
    "        \"sustento_local\": sustento_local\n",
    "    }\n",
    "\n",
    "    return pd.DataFrame(data)"
   ]
  },
  {
   "cell_type": "code",
   "execution_count": null,
   "id": "ae56b9cc",
   "metadata": {},
   "outputs": [],
   "source": [
    "def green_linear_model(dados:pd.DataFrame,\n",
    "                       n:int,\n",
    "                       tau:float,\n",
    "                       K:int,\n",
    "                       U_max:int):\n",
    "    \"\"\"\n",
    "    Modelo de Otimização Linear para o problema de \n",
    "    sustentabilidade da região\n",
    "\n",
    "    Args:\n",
    "        dados (pd.DataFrame): Os dados que representam a região\n",
    "        n (int): Número de parcelas da região\n",
    "        tau (float): Limiar para considerar \"altamente degradado\"\n",
    "        K (int): Mínimo de parcelas altamente degradadas a reflorestar\n",
    "        U_max (int): Impacto máximo no sustento local \n",
    "    \"\"\"\n",
    "    prob = LpProblem(\"GreenModel\", LpMaximize)\n",
    "\n",
    "    # Variáveis de Decisão\n",
    "    x = [LpVariable(f\"x_{i}\", cat='Binary') for i in range(n)] # Proteção Ambiental\n",
    "    y = [LpVariable(f\"y_{i}\", cat='Binary') for i in range(n)] # Uso sustentável \n",
    "    z = [LpVariable(f\"z_{i}\", cat='Binary') for i in range(n)] # Reflorestamento\n",
    "\n",
    "\n",
    "    # Parâmetros\n",
    "    b = dados['Biodiversidade']\n",
    "    d = dados['Degradacao']\n",
    "    w = dados['Nascente']\n",
    "    u = dados['sustento_local']\n",
    "\n",
    "    # Função-objetivo: maximização da biodiversidade da região\n",
    "    prob += lpSum(b[i] * x[i] for i in range(n))\n",
    "\n",
    "    # Restrições\n",
    "    for i in range(n): \n",
    "        if d[i] > tau:\n",
    "            x[i] == 0 # Se a degradação da parcela i for maior que tau, não preserva biodiversidade\n",
    "        \n",
    "        prob += x[i] >= w[i] # Proximidade com nascente não podem ser negligenciadas\n",
    "        prob += y[i] <= 1 - w[i]  # Uso Sustentável longe de nascentes\n",
    "        prob += x[i] + y[i] + z[i] == 1 # A parcela i só pode ter apenas um destino\n",
    "        \n",
    "\n",
    "    # 30% da região é para proteção ambiental\n",
    "    prob += lpSum(x[i] for i in range(n)) >= 18   \n",
    "\n",
    "    # Recuperação mínima de área degradada\n",
    "    prob += lpSum(z[i] for i in range(n) if d[i] >= tau) >= K\n",
    "\n",
    "    # Impacto máximo da região i no sustento local\n",
    "    prob += lpSum(u[i] * x[i] for i in range(n)) <= U_max\n",
    "\n",
    "    # Resolução\n",
    "    prob.solve()\n",
    "\n",
    "    # Resultados\n",
    "    print(\"Status:\", LpStatus[prob.status])\n",
    "    print(\"Biodiversidade protegida:\", value(prob.objective))\n",
    "    print(\"Parcelas em Proteção Integral:\", sum(int(x[i].value()) for i in range(n)))\n",
    "    print(\"Parcelas em Uso sustentável:\", sum(int(y[i].value()) for i in range(n)))\n",
    "    print(\"Parcelas em Reflorestamento:\", sum(int(z[i].value()) for i in range(n)))\n",
    "     "
   ]
  },
  {
   "cell_type": "code",
   "execution_count": 30,
   "id": "eef26509",
   "metadata": {},
   "outputs": [
    {
     "data": {
      "text/html": [
       "<div>\n",
       "<style scoped>\n",
       "    .dataframe tbody tr th:only-of-type {\n",
       "        vertical-align: middle;\n",
       "    }\n",
       "\n",
       "    .dataframe tbody tr th {\n",
       "        vertical-align: top;\n",
       "    }\n",
       "\n",
       "    .dataframe thead th {\n",
       "        text-align: right;\n",
       "    }\n",
       "</style>\n",
       "<table border=\"1\" class=\"dataframe\">\n",
       "  <thead>\n",
       "    <tr style=\"text-align: right;\">\n",
       "      <th></th>\n",
       "      <th>Biodiversidade</th>\n",
       "      <th>Degradacao</th>\n",
       "      <th>Nascente</th>\n",
       "      <th>sustento_local</th>\n",
       "    </tr>\n",
       "  </thead>\n",
       "  <tbody>\n",
       "    <tr>\n",
       "      <th>0</th>\n",
       "      <td>4</td>\n",
       "      <td>0.978724</td>\n",
       "      <td>0</td>\n",
       "      <td>8</td>\n",
       "    </tr>\n",
       "    <tr>\n",
       "      <th>1</th>\n",
       "      <td>9</td>\n",
       "      <td>0.782440</td>\n",
       "      <td>1</td>\n",
       "      <td>7</td>\n",
       "    </tr>\n",
       "    <tr>\n",
       "      <th>2</th>\n",
       "      <td>0</td>\n",
       "      <td>0.381791</td>\n",
       "      <td>1</td>\n",
       "      <td>6</td>\n",
       "    </tr>\n",
       "    <tr>\n",
       "      <th>3</th>\n",
       "      <td>6</td>\n",
       "      <td>0.057223</td>\n",
       "      <td>0</td>\n",
       "      <td>9</td>\n",
       "    </tr>\n",
       "    <tr>\n",
       "      <th>4</th>\n",
       "      <td>9</td>\n",
       "      <td>0.669162</td>\n",
       "      <td>1</td>\n",
       "      <td>0</td>\n",
       "    </tr>\n",
       "  </tbody>\n",
       "</table>\n",
       "</div>"
      ],
      "text/plain": [
       "   Biodiversidade  Degradacao  Nascente  sustento_local\n",
       "0               4    0.978724         0               8\n",
       "1               9    0.782440         1               7\n",
       "2               0    0.381791         1               6\n",
       "3               6    0.057223         0               9\n",
       "4               9    0.669162         1               0"
      ]
     },
     "metadata": {},
     "output_type": "display_data"
    }
   ],
   "source": [
    "# O conjunto de dados aleatório\n",
    "database = random_region(n=60)\n",
    "\n",
    "display(database.head())"
   ]
  },
  {
   "cell_type": "code",
   "execution_count": 72,
   "id": "df565a35",
   "metadata": {},
   "outputs": [
    {
     "name": "stdout",
     "output_type": "stream",
     "text": [
      "Status: Optimal\n",
      "Biodiversidade protegida: 248.0\n",
      "Parcelas em Proteção Integral: 49\n",
      "Parcelas em Uso sustentável: 2\n",
      "Parcelas em Reflorestamento: 9\n"
     ]
    }
   ],
   "source": [
    "# Resolvendo o problema de maximizar a biodiversidade\n",
    "green_linear_model(dados=database,\n",
    "                   n = 60,\n",
    "                   tau = 0.8,\n",
    "                   K = 7,\n",
    "                   U_max= 200)"
   ]
  },
  {
   "cell_type": "code",
   "execution_count": null,
   "id": "1edfdd09",
   "metadata": {},
   "outputs": [],
   "source": []
  }
 ],
 "metadata": {
  "kernelspec": {
   "display_name": "Python 3",
   "language": "python",
   "name": "python3"
  },
  "language_info": {
   "codemirror_mode": {
    "name": "ipython",
    "version": 3
   },
   "file_extension": ".py",
   "mimetype": "text/x-python",
   "name": "python",
   "nbconvert_exporter": "python",
   "pygments_lexer": "ipython3",
   "version": "3.11.9"
  }
 },
 "nbformat": 4,
 "nbformat_minor": 5
}
