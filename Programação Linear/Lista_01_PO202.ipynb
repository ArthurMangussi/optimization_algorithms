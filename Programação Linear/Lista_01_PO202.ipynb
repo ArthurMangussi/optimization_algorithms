{
  "nbformat": 4,
  "nbformat_minor": 0,
  "metadata": {
    "colab": {
      "provenance": []
    },
    "kernelspec": {
      "name": "python3",
      "display_name": "Python 3"
    },
    "language_info": {
      "name": "python"
    }
  },
  "cells": [
    {
      "cell_type": "code",
      "source": [
        "!pip install pulp"
      ],
      "metadata": {
        "colab": {
          "base_uri": "https://localhost:8080/"
        },
        "id": "xAt1YMsZ7vHx",
        "outputId": "44f2a958-2576-4196-ffcd-1183054e1504"
      },
      "execution_count": 1,
      "outputs": [
        {
          "output_type": "stream",
          "name": "stdout",
          "text": [
            "Collecting pulp\n",
            "  Downloading pulp-3.1.1-py3-none-any.whl.metadata (1.3 kB)\n",
            "Downloading pulp-3.1.1-py3-none-any.whl (16.4 MB)\n",
            "\u001b[2K   \u001b[90m━━━━━━━━━━━━━━━━━━━━━━━━━━━━━━━━━━━━━━━━\u001b[0m \u001b[32m16.4/16.4 MB\u001b[0m \u001b[31m48.6 MB/s\u001b[0m eta \u001b[36m0:00:00\u001b[0m\n",
            "\u001b[?25hInstalling collected packages: pulp\n",
            "Successfully installed pulp-3.1.1\n"
          ]
        }
      ]
    },
    {
      "cell_type": "code",
      "source": [
        "from pulp import *"
      ],
      "metadata": {
        "id": "FP1WvOyh8J96"
      },
      "execution_count": 2,
      "outputs": []
    },
    {
      "cell_type": "code",
      "source": [
        "## Funções auxiliares\n",
        "def print_solution(prob):\n",
        "    print(f\"Status: {LpStatus[prob.status]} --> {prob.objective.value()}\")\n",
        "    for v in prob.variables():\n",
        "        print(f\"{v.name}: {v.varValue}\")"
      ],
      "metadata": {
        "id": "dZrpw7j49MyA"
      },
      "execution_count": 3,
      "outputs": []
    },
    {
      "cell_type": "markdown",
      "source": [
        "# Lista de Exercícios 01 - Disciplina PO202\n",
        "\n",
        "Para resolução dos exercícios, vou utilizar a biblioteca Pulp para resolver os problemas de otimização propostos. Nesse notebook, conterá o enunciado da questão e o código em seguida."
      ],
      "metadata": {
        "id": "u9sdMKkj7K_-"
      }
    },
    {
      "cell_type": "markdown",
      "source": [
        "### Exercício 1:\n",
        "\n",
        "Minimize o custo de uma ração composta por milho (M) e farelo de soja (FS), que custam respectivamente R\\$0.26 e R\\$0.32 o quilo. A ração deve ter no mínimo 0.34 kg de proteína e 2.64 kg de carboidratos. Cada quilo de milho contêm 0.07 kg de proteína e 0.82 kg de carboidratos, cada quilo de farelo de soja contêm 0,21 kg de proteína e 0,79 kg de carboidratos. Resolva o problema utilizando o método gráfico."
      ],
      "metadata": {
        "id": "F5V4YxEy7bnK"
      }
    },
    {
      "cell_type": "code",
      "execution_count": null,
      "metadata": {
        "id": "e4rHEX_x7Hvn"
      },
      "outputs": [],
      "source": [
        "prob = LpProblem(\"Exercise_1\", LpMinimize)"
      ]
    },
    {
      "cell_type": "code",
      "source": [
        "# Variáveis de decisão\n",
        "x1 = LpVariable(\"QTD_Milho\", 0, None, LpContinuous)\n",
        "x2 = LpVariable(\"QTD_Soja\", 0, None, LpContinuous)\n",
        "\n",
        "#Função-objetivo\n",
        "prob += 0.26 * x1 + 0.32 * x2, \"Custo_Total\"\n",
        "\n",
        "#Restrições\n",
        "prob += 0.07 * x1 + 0.21 * x2 >= 0.34, \"Proteína\"\n",
        "prob += 0.82 * x1 + 0.79 * x2 >= 2.64, \"Carboidrato\"\n",
        "\n",
        "prob.solve()"
      ],
      "metadata": {
        "colab": {
          "base_uri": "https://localhost:8080/"
        },
        "id": "teD8YgNi7sQr",
        "outputId": "9e4f660f-0808-431c-8d33-a1526480b2d7"
      },
      "execution_count": null,
      "outputs": [
        {
          "output_type": "execute_result",
          "data": {
            "text/plain": [
              "1"
            ]
          },
          "metadata": {},
          "execution_count": 7
        }
      ]
    },
    {
      "cell_type": "code",
      "source": [
        "print_solution(prob)"
      ],
      "metadata": {
        "colab": {
          "base_uri": "https://localhost:8080/"
        },
        "id": "gXjWHnHS9GxC",
        "outputId": "79b7465a-88f2-45ce-9959-ae8cd0f6f008"
      },
      "execution_count": null,
      "outputs": [
        {
          "output_type": "stream",
          "name": "stdout",
          "text": [
            "Status: Optimal --> 0.8929683384\n",
            "QTD_Milho: 2.4448246\n",
            "QTD_Soja: 0.80410607\n"
          ]
        }
      ]
    },
    {
      "cell_type": "markdown",
      "source": [
        "### Exercício 02\n",
        "\n",
        "Um investidor tem R$22000,00 para investir nos próximos 5 anos. No início de cada ano ele pode\n",
        "investir em depósitos de um ou dois anos. O banco paga 8% para o depósito de um ano e 17%(total) para\n",
        "depósito de dois anos. Além disso, há a possibilidade de investir em títulos a partir do segundo ano e que\n",
        "rendem após 3 anos 27% (total). Se o investidor reinveste seu dinheiro todo ano, formule o problema de\n",
        "modo a maximizar seu lucro total ao final de 5 anos. É possível resolvê-lo pelo método gráfico?"
      ],
      "metadata": {
        "id": "x0xXrrMuVloO"
      }
    },
    {
      "cell_type": "code",
      "source": [
        "prob2 = LpProblem(\"Exercise_2\", LpMaximize)"
      ],
      "metadata": {
        "id": "IJdsvN8aVqHp"
      },
      "execution_count": 6,
      "outputs": []
    },
    {
      "cell_type": "code",
      "source": [
        "# Variáveis de decisão\n",
        "x1 = LpVariable(\"Ano1_Deposito1Ano\", 0, None, LpContinuous)\n",
        "x2 = LpVariable(\"Ano2_Deposito1Ano\", 0, None, LpContinuous)\n",
        "x3 = LpVariable(\"Ano3_Deposito1Ano\", 0, None, LpContinuous)\n",
        "x4 = LpVariable(\"Ano4_Deposito1Ano\", 0, None, LpContinuous)\n",
        "x5 = LpVariable(\"Ano5_Deposito1Ano\", 0, None, LpContinuous)\n",
        "\n",
        "y1 = LpVariable(\"Ano1_Deposito2Ano\", 0, None, LpContinuous)\n",
        "y2 = LpVariable(\"Ano2_Deposito2Ano\", 0, None, LpContinuous)\n",
        "y3 = LpVariable(\"Ano3_Deposito2Ano\", 0, None, LpContinuous)\n",
        "y4 = LpVariable(\"Ano4_Deposito2Ano\", 0, None, LpContinuous)\n",
        "\n",
        "z1 = LpVariable(\"Ano2_Titulo3Ano\", 0, None, LpContinuous)\n",
        "z2 = LpVariable(\"Ano3_Titulo3Ano\", 0, None, LpContinuous)\n",
        "\n",
        "\n",
        "#Função-objetivo\n",
        "prob2 += 1.08 * x5 + 1.17 * y4 + 1.27 * z2, \"Lucro_Total\"\n",
        "\n",
        "#Restrições\n",
        "prob2 += x1 + y1 <= 22000, \"Ano 1\"\n",
        "prob2 += x2 + y2 + z1 <= 1.08 * x1, \"Ano 2\"\n",
        "prob2 += x3 + y3 + z2 <= 1.08 * x2 + 1.17 * y1, \"Ano 3\"\n",
        "prob2 += x4 + y4 <= 1.08*x3 + 1.17*y2, \"Ano 4\"\n",
        "prob2 += x5 <= 1.08*x4 + 1.17*y3, \"Ano 5\"\n",
        "\n",
        "prob2.solve()\n",
        "print_solution(prob2)"
      ],
      "metadata": {
        "colab": {
          "base_uri": "https://localhost:8080/"
        },
        "id": "nP_8xMOOVwbr",
        "outputId": "be3949f0-94ae-4f6e-897b-422201ea931c"
      },
      "execution_count": 7,
      "outputs": [
        {
          "output_type": "stream",
          "name": "stdout",
          "text": [
            "Status: Optimal --> 32689.8\n",
            "Ano1_Deposito1Ano: 0.0\n",
            "Ano1_Deposito2Ano: 22000.0\n",
            "Ano2_Deposito1Ano: 0.0\n",
            "Ano2_Deposito2Ano: 0.0\n",
            "Ano2_Titulo3Ano: 0.0\n",
            "Ano3_Deposito1Ano: 0.0\n",
            "Ano3_Deposito2Ano: 0.0\n",
            "Ano3_Titulo3Ano: 25740.0\n",
            "Ano4_Deposito1Ano: 0.0\n",
            "Ano4_Deposito2Ano: 0.0\n",
            "Ano5_Deposito1Ano: 0.0\n"
          ]
        }
      ]
    },
    {
      "cell_type": "markdown",
      "source": [
        "### Exercício 03\n",
        "\n",
        "A indústria SiderVR produz aço com a seguinte composição: 3.2 - 3.5% de carbono; 1.8 - 2.5% de silicon; 0.9 - 1.2% de níquel. A SiderVR fabrica aço através da combinação de duas ligas. O custo e a propriedade de cada uma estão na Tabela 1. Determine como deve ser a produção de forma que a SiderVR tenha o menor custo possível.\n",
        "\n",
        "\n",
        "\\begin{tabular}{l|c|c}\n",
        "\\hline\n",
        " & Liga 1 & Liga 2 \\\\\n",
        "Custo por ton. (R\\$) & 190 & 200 \\\\\n",
        "Percentual de Silicon & 2 & 2.5 \\\\\n",
        "Percentual de Níquel & 1 & 1.5 \\\\\n",
        "Percentual de Carbono & 3 & 4 \\\\ \\hline\n",
        "\\end{tabular}\n",
        "\n"
      ],
      "metadata": {
        "id": "SC_GgMYkJKz4"
      }
    },
    {
      "cell_type": "code",
      "source": [
        "prob3 = LpProblem(\"Exercise_3\", LpMinimize)"
      ],
      "metadata": {
        "id": "hjVC-Iew9T8y"
      },
      "execution_count": null,
      "outputs": []
    },
    {
      "cell_type": "code",
      "source": [
        "# Variáveis de decisão\n",
        "x1 = LpVariable(\"QTD_Liga1\", 0, None, LpContinuous)\n",
        "x2 = LpVariable(\"QTD_Liga2\", 0, None, LpContinuous)\n",
        "\n",
        "#Função-objetivo\n",
        "prob3 += 190 * x1 + 200 * x2, \"Custo_Total\"\n",
        "\n",
        "#Restrições\n",
        "prob3 += 2*x1 + 2.5 * x2 <= 2.5, \"Percentual_Silicon1\"\n",
        "prob3 += 2*x1 + 2.5 * x2 >= 1.8, \"Percentual_Silicon2\"\n",
        "prob3 += x1 + 1.5 * x2 <= 1.2, \"Percentual_Niquel1\"\n",
        "prob3 += x1 + 1.5 * x2 >= 0.9, \"Percentual_Niquel2\"\n",
        "prob3 += 3 * x1 + 4 * x2 <= 3.5, \"Percentual_Carbono1\"\n",
        "prob3 += 3 * x1 + 4 * x2 >= 3.2, \"Percentual_Carbono2\"\n",
        "\n",
        "prob3.solve()\n",
        "print_solution(prob3)"
      ],
      "metadata": {
        "colab": {
          "base_uri": "https://localhost:8080/"
        },
        "id": "Ptb_WjhKJvbW",
        "outputId": "49682ff4-b943-428c-8647-69277a0f4c03"
      },
      "execution_count": null,
      "outputs": [
        {
          "output_type": "stream",
          "name": "stdout",
          "text": [
            "Status: Optimal --> 160.0\n",
            "QTD_Liga1: 0.0\n",
            "QTD_Liga2: 0.8\n"
          ]
        }
      ]
    },
    {
      "cell_type": "markdown",
      "source": [
        "### Exercício 04\n",
        "\n",
        "A Quitutaço produz dois tipos de tortas: de chocolate e morango. Cada torta de chocolate pode ser vendida por R\\$4,00 e cada torta de morango por R\\$2,00. Cada torta de chocolate requer 4 ovos e 20 minutos de forno. Cada torta de morango requer 1 ovo e 40 minutos de forno. Sabendo que a Quitutaço\n",
        "dispõe, em função do horário de trabalho, de 8 horas de forno e 30 ovos, como deve ser a produção para que seja maximizada a receita total?"
      ],
      "metadata": {
        "id": "OH2WWOfFQNcY"
      }
    },
    {
      "cell_type": "code",
      "source": [
        "prob4 = LpProblem(\"Exercise_4\", LpMaximize)"
      ],
      "metadata": {
        "id": "3McRq6cIKmE8"
      },
      "execution_count": null,
      "outputs": []
    },
    {
      "cell_type": "code",
      "source": [
        "# Variáveis de decisão\n",
        "x1 = LpVariable(\"QTD_torta_chocolate\", 0, None, LpInteger)\n",
        "x2 = LpVariable(\"QTD_torta_morango\", 0, None, LpInteger)\n",
        "\n",
        "#Função-objetivo\n",
        "prob4 += 4 * x1 + 2 * x2, \"Custo_Total\"\n",
        "\n",
        "#Restrições\n",
        "prob4 += 4*x1 + x2 <= 30, \"Nro_ovos\"\n",
        "prob4 += 20*x1 + 40 * x2 <= 480, \"Tempo_minutos\"\n",
        "\n",
        "\n",
        "prob4.solve()\n",
        "print_solution(prob4)"
      ],
      "metadata": {
        "colab": {
          "base_uri": "https://localhost:8080/"
        },
        "id": "pfJHGjJgQVFm",
        "outputId": "621fe37e-7b59-4fae-b7b3-41ae3bcb3556"
      },
      "execution_count": null,
      "outputs": [
        {
          "output_type": "stream",
          "name": "stdout",
          "text": [
            "Status: Optimal --> 38.0\n",
            "QTD_torta_chocolate: 5.0\n",
            "QTD_torta_morango: 9.0\n"
          ]
        }
      ]
    },
    {
      "cell_type": "markdown",
      "source": [
        "### Exercício 05"
      ],
      "metadata": {
        "id": "Wzkqs8vtk6wL"
      }
    },
    {
      "cell_type": "code",
      "source": [
        "prob5 = LpProblem(\"Exercise_5\", LpMinimize)\n"
      ],
      "metadata": {
        "id": "QQnE3T5yQpPk"
      },
      "execution_count": null,
      "outputs": []
    },
    {
      "cell_type": "code",
      "source": [
        "# Variáveis de decisão\n",
        "x1 = LpVariable(\"Medida_1_AltosFornos\", 0, 1, LpContinuous)\n",
        "x2 = LpVariable(\"Medida_1_FornosAbertos\", 0, 1, LpContinuous)\n",
        "x3 = LpVariable(\"Medida_2_AltosFornos\", 0, 1, LpContinuous)\n",
        "x4 = LpVariable(\"Medida_2_FornosAbertos\", 0, 1, LpContinuous)\n",
        "x5 = LpVariable(\"Medida_3_AltosFornos\", 0, 1, LpContinuous)\n",
        "x6 = LpVariable(\"Medida_3_FornosAbertos\", 0, 1, LpContinuous)\n",
        "\n",
        "# Função-objetivo\n",
        "prob5 += 8 * x1 + 10 * x2 + 7 * x3 + 6 * x4 + 11 * x5 + 9 * x6\n",
        "\n",
        "# Restrições\n",
        "prob5 += 12 * x1 + 9 * x2 + 25 * x3 + 20 * x4 + 17 * x5 + 13 * x6 >= 60, \"Particulas\"\n",
        "prob5 += 35 * x1 + 42 * x2 + 18 * x3 + 31 * x4 + 56 * x5 + 49 * x6 >= 150, \"Oxido\"\n",
        "prob5 += 37 * x1 + 53 * x2 + 28 * x3 + 34 * x4 + 29 * x5 + 20 * x6 >= 125, \"Hidrocarbonetos\"\n",
        "\n",
        "\n",
        "prob5.solve()\n",
        "print_solution(prob5)"
      ],
      "metadata": {
        "colab": {
          "base_uri": "https://localhost:8080/"
        },
        "id": "N_zVDOwmlBmD",
        "outputId": "caa9d8bb-a038-48b5-ce6a-c404a3c0e34b"
      },
      "execution_count": null,
      "outputs": [
        {
          "output_type": "stream",
          "name": "stdout",
          "text": [
            "Status: Optimal --> 31.461374869999997\n",
            "Medida_1_AltosFornos: 1.0\n",
            "Medida_1_FornosAbertos: 0.33563369\n",
            "Medida_2_AltosFornos: 0.28837575\n",
            "Medida_2_FornosAbertos: 1.0\n",
            "Medida_3_AltosFornos: 0.28058252\n",
            "Medida_3_FornosAbertos: 1.0\n"
          ]
        }
      ]
    }
  ]
}